{
 "cells": [
  {
   "cell_type": "code",
   "execution_count": 1,
   "id": "166e2ff8-8a32-406c-91d1-773104384925",
   "metadata": {},
   "outputs": [],
   "source": [
    "import random\n",
    "import pyspark"
   ]
  },
  {
   "cell_type": "code",
   "execution_count": 2,
   "id": "8a1bad76-bbfc-440b-892d-c3af0d241950",
   "metadata": {},
   "outputs": [],
   "source": [
    "sc = pyspark.SparkContext(appName=\"Pi\")"
   ]
  },
  {
   "cell_type": "code",
   "execution_count": 3,
   "id": "4d545d6b-66d9-4fc7-b542-1674027dbdf0",
   "metadata": {},
   "outputs": [],
   "source": [
    "# create a function to test spark\n",
    "def inside(p):     \n",
    "  x, y = random.random(), random.random()\n",
    "  return x*x + y*y < 1"
   ]
  },
  {
   "cell_type": "code",
   "execution_count": 4,
   "id": "41fd6a61-dd64-4ce9-a629-a9496e1ce0d6",
   "metadata": {},
   "outputs": [],
   "source": [
    "# specify number of samples for the test\n",
    "num_samples = 100000000"
   ]
  },
  {
   "cell_type": "code",
   "execution_count": 5,
   "id": "aeec8bb8-127e-46a9-a363-8441e9f8bda3",
   "metadata": {},
   "outputs": [],
   "source": [
    "# execute the function to test spark\n",
    "count = sc.parallelize(range(0, num_samples)).filter(inside).count()"
   ]
  },
  {
   "cell_type": "code",
   "execution_count": 6,
   "id": "09eb8e76-c939-47e5-a5ec-bdc62bd6f5b8",
   "metadata": {},
   "outputs": [
    {
     "name": "stdout",
     "output_type": "stream",
     "text": [
      "3.14164976\n"
     ]
    }
   ],
   "source": [
    "# get the result\n",
    "pi = 4 * count / num_samples\n",
    "print(pi)"
   ]
  },
  {
   "cell_type": "code",
   "execution_count": 7,
   "id": "9c1a2e2e-3ae1-4e83-a35e-be9641006f13",
   "metadata": {},
   "outputs": [],
   "source": [
    "# stop the spark context\n",
    "sc.stop()"
   ]
  },
  {
   "cell_type": "code",
   "execution_count": null,
   "id": "7b2f9c24-7a4a-41a1-9890-2f68cfda881c",
   "metadata": {},
   "outputs": [],
   "source": []
  }
 ],
 "metadata": {
  "kernelspec": {
   "display_name": "Python 3 (ipykernel)",
   "language": "python",
   "name": "python3"
  },
  "language_info": {
   "codemirror_mode": {
    "name": "ipython",
    "version": 3
   },
   "file_extension": ".py",
   "mimetype": "text/x-python",
   "name": "python",
   "nbconvert_exporter": "python",
   "pygments_lexer": "ipython3",
   "version": "3.11.6"
  }
 },
 "nbformat": 4,
 "nbformat_minor": 5
}
